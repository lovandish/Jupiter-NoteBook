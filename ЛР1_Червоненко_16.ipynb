{
  "cells": [
    {
      "cell_type": "markdown",
      "metadata": {
        "id": "bri_pAriNFqN"
      },
      "source": [
        "**Цель работы:**\n",
        "\n",
        "Осуществить предварительную обработку данных csv-файла, выявить и устранить проблемы в этих данных."
      ]
    },
    {
      "cell_type": "markdown",
      "metadata": {
        "id": "r_e-GeJmgZ8l"
      },
      "source": [
        "# Загрузка набора данных"
      ]
    },
    {
      "cell_type": "markdown",
      "metadata": {
        "id": "eeq9ZAbSguQS"
      },
      "source": [
        "### Описание предметной области"
      ]
    },
    {
      "cell_type": "markdown",
      "metadata": {
        "id": "XHbH8zNIg0Ib"
      },
      "source": [
        "Вариант №16\n",
        "\n",
        "Набор данных: drivers.csv\n",
        "\n",
        "Атрибуты:\n",
        "1. Дата и время начала\n",
        "2. Дата и время окончания\n",
        "3. Категория\n",
        "4. Место начала (можно не проверять данный столбец на наличие неявных\n",
        "дубликатов)\n",
        "5. Место окончания (можно не проверять данный столбец на наличие неявных\n",
        "дубликатов)\n",
        "6. Пройденные мили\n",
        "7. Цель поездки\n"
      ]
    },
    {
      "cell_type": "markdown",
      "metadata": {
        "id": "Lwin9ia7hT1i"
      },
      "source": [
        "### 1.Чтение файла (набора данных)"
      ]
    },
    {
      "cell_type": "code",
      "execution_count": 2,
      "metadata": {
        "id": "a5dYQO5YhOYa"
      },
      "outputs": [],
      "source": [
        "# импорт библиотек, чтение файла с помощью pandas\n",
        "import pandas as pd\n",
        "\n",
        "df = pd.read_csv('drivers.csv', sep=';')"
      ]
    },
    {
      "cell_type": "markdown",
      "metadata": {
        "id": "p82p53SvhjLN"
      },
      "source": [
        "### 2. Обзор данных"
      ]
    },
    {
      "cell_type": "markdown",
      "metadata": {
        "id": "eAYzXaLrh-qh"
      },
      "source": [
        "2.1 Вывод первых 20 строк с помощью метода head."
      ]
    },
    {
      "cell_type": "code",
      "execution_count": 3,
      "metadata": {
        "id": "7yMo3VZ_hotx"
      },
      "outputs": [
        {
          "data": {
            "text/html": [
              "<div>\n",
              "<style scoped>\n",
              "    .dataframe tbody tr th:only-of-type {\n",
              "        vertical-align: middle;\n",
              "    }\n",
              "\n",
              "    .dataframe tbody tr th {\n",
              "        vertical-align: top;\n",
              "    }\n",
              "\n",
              "    .dataframe thead th {\n",
              "        text-align: right;\n",
              "    }\n",
              "</style>\n",
              "<table border=\"1\" class=\"dataframe\">\n",
              "  <thead>\n",
              "    <tr style=\"text-align: right;\">\n",
              "      <th></th>\n",
              "      <th>START_DATE</th>\n",
              "      <th>END_DATE</th>\n",
              "      <th>CATEGORY*</th>\n",
              "      <th>START</th>\n",
              "      <th>STOP</th>\n",
              "      <th>MILES</th>\n",
              "      <th>PURPOSEroute</th>\n",
              "    </tr>\n",
              "  </thead>\n",
              "  <tbody>\n",
              "    <tr>\n",
              "      <th>0</th>\n",
              "      <td>01.10.2016 19:12</td>\n",
              "      <td>01.10.2016 19:32</td>\n",
              "      <td>Business</td>\n",
              "      <td>Midtown</td>\n",
              "      <td>East Harlem</td>\n",
              "      <td>44963.0</td>\n",
              "      <td>MEETING</td>\n",
              "    </tr>\n",
              "    <tr>\n",
              "      <th>1</th>\n",
              "      <td>01.11.2016 13:32</td>\n",
              "      <td>01.11.2016 13:46</td>\n",
              "      <td>Business</td>\n",
              "      <td>Midtown</td>\n",
              "      <td>Midtown East</td>\n",
              "      <td>45108.0</td>\n",
              "      <td>Meal/Entertain</td>\n",
              "    </tr>\n",
              "    <tr>\n",
              "      <th>2</th>\n",
              "      <td>01.12.2016 12:33</td>\n",
              "      <td>01.12.2016 12:49</td>\n",
              "      <td>Business</td>\n",
              "      <td>Midtown</td>\n",
              "      <td>Hudson Square</td>\n",
              "      <td>45170.0</td>\n",
              "      <td>Meal/Entertain</td>\n",
              "    </tr>\n",
              "    <tr>\n",
              "      <th>3</th>\n",
              "      <td>1.13.2016 15:00</td>\n",
              "      <td>1.13.2016 15:28</td>\n",
              "      <td>Business</td>\n",
              "      <td>Gulfton</td>\n",
              "      <td>Downtown</td>\n",
              "      <td>45149.0</td>\n",
              "      <td>Meeting</td>\n",
              "    </tr>\n",
              "    <tr>\n",
              "      <th>4</th>\n",
              "      <td>1.29.2016 21:21</td>\n",
              "      <td>1.29.2016 21:40</td>\n",
              "      <td>Business</td>\n",
              "      <td>Apex</td>\n",
              "      <td>Cary</td>\n",
              "      <td>45051.0</td>\n",
              "      <td>Meal/Entertain</td>\n",
              "    </tr>\n",
              "    <tr>\n",
              "      <th>5</th>\n",
              "      <td>1.30.2016 18:09</td>\n",
              "      <td>1.30.2016 18:24</td>\n",
              "      <td>Business</td>\n",
              "      <td>Apex</td>\n",
              "      <td>Cary</td>\n",
              "      <td>45112.0</td>\n",
              "      <td>Customer Visit</td>\n",
              "    </tr>\n",
              "    <tr>\n",
              "      <th>6</th>\n",
              "      <td>02.01.2016 12:10</td>\n",
              "      <td>02.01.2016 12:43</td>\n",
              "      <td>Business</td>\n",
              "      <td>Chapel Hill</td>\n",
              "      <td>Cary</td>\n",
              "      <td>45008.0</td>\n",
              "      <td>Customer Visit</td>\n",
              "    </tr>\n",
              "    <tr>\n",
              "      <th>7</th>\n",
              "      <td>02.04.2016 9:37</td>\n",
              "      <td>02.04.2016 10:09</td>\n",
              "      <td>Business</td>\n",
              "      <td>Morrisville</td>\n",
              "      <td>Cary</td>\n",
              "      <td>45116.0</td>\n",
              "      <td>Meal/Entertain</td>\n",
              "    </tr>\n",
              "    <tr>\n",
              "      <th>8</th>\n",
              "      <td>02.07.2016 18:03</td>\n",
              "      <td>02.07.2016 18:17</td>\n",
              "      <td>Business</td>\n",
              "      <td>Apex</td>\n",
              "      <td>Cary</td>\n",
              "      <td>45112.0</td>\n",
              "      <td>Customer Visit</td>\n",
              "    </tr>\n",
              "    <tr>\n",
              "      <th>9</th>\n",
              "      <td>02.07.2016 20:22</td>\n",
              "      <td>02.07.2016 20:40</td>\n",
              "      <td>Business</td>\n",
              "      <td>Morrisville</td>\n",
              "      <td>Cary</td>\n",
              "      <td>44932.0</td>\n",
              "      <td>Meeting</td>\n",
              "    </tr>\n",
              "    <tr>\n",
              "      <th>10</th>\n",
              "      <td>02.09.2016 20:24</td>\n",
              "      <td>02.09.2016 20:40</td>\n",
              "      <td>Business</td>\n",
              "      <td>Morrisville</td>\n",
              "      <td>Cary</td>\n",
              "      <td>44932.0</td>\n",
              "      <td>Meal/Entertain</td>\n",
              "    </tr>\n",
              "    <tr>\n",
              "      <th>11</th>\n",
              "      <td>02.11.2016 20:36</td>\n",
              "      <td>02.11.2016 20:51</td>\n",
              "      <td>Business</td>\n",
              "      <td>Morrisville</td>\n",
              "      <td>Cary</td>\n",
              "      <td>44932.0</td>\n",
              "      <td>Temporary Site</td>\n",
              "    </tr>\n",
              "    <tr>\n",
              "      <th>12</th>\n",
              "      <td>02.12.2016 11:14</td>\n",
              "      <td>02.12.2016 11:35</td>\n",
              "      <td>Business</td>\n",
              "      <td>Morrisville</td>\n",
              "      <td>Raleigh</td>\n",
              "      <td>17.0</td>\n",
              "      <td>Customer Visit</td>\n",
              "    </tr>\n",
              "    <tr>\n",
              "      <th>13</th>\n",
              "      <td>02.12.2016 15:33</td>\n",
              "      <td>02.12.2016 16:06</td>\n",
              "      <td>Business</td>\n",
              "      <td>Morrisville</td>\n",
              "      <td>Cary</td>\n",
              "      <td>45057.0</td>\n",
              "      <td>Customer Visit</td>\n",
              "    </tr>\n",
              "    <tr>\n",
              "      <th>14</th>\n",
              "      <td>2.14.2016 14:46</td>\n",
              "      <td>2.14.2016 15:03</td>\n",
              "      <td>Business</td>\n",
              "      <td>Midtown</td>\n",
              "      <td>Midtown West</td>\n",
              "      <td>2.0</td>\n",
              "      <td>Meeting</td>\n",
              "    </tr>\n",
              "    <tr>\n",
              "      <th>15</th>\n",
              "      <td>2.16.2016 10:31</td>\n",
              "      <td>2.16.2016 10:41</td>\n",
              "      <td>BUSINESS</td>\n",
              "      <td>Colombo</td>\n",
              "      <td>Colombo</td>\n",
              "      <td>45079.0</td>\n",
              "      <td>NaN</td>\n",
              "    </tr>\n",
              "    <tr>\n",
              "      <th>16</th>\n",
              "      <td>2.16.2016 11:32</td>\n",
              "      <td>2.16.2016 12:02</td>\n",
              "      <td>Business</td>\n",
              "      <td>Colombo</td>\n",
              "      <td>Colombo</td>\n",
              "      <td>45050.0</td>\n",
              "      <td>NaN</td>\n",
              "    </tr>\n",
              "    <tr>\n",
              "      <th>17</th>\n",
              "      <td>2.16.2016 12:39</td>\n",
              "      <td>2.16.2016 12:42</td>\n",
              "      <td>Business</td>\n",
              "      <td>Colombo</td>\n",
              "      <td>Colombo</td>\n",
              "      <td>45108.0</td>\n",
              "      <td>NaN</td>\n",
              "    </tr>\n",
              "    <tr>\n",
              "      <th>18</th>\n",
              "      <td>2.16.2016 13:43</td>\n",
              "      <td>2.16.2016 13:55</td>\n",
              "      <td>BUSINESS</td>\n",
              "      <td>Colombo</td>\n",
              "      <td>Colombo</td>\n",
              "      <td>45139.0</td>\n",
              "      <td>Temporary Site</td>\n",
              "    </tr>\n",
              "    <tr>\n",
              "      <th>19</th>\n",
              "      <td>2.16.2016 16:34</td>\n",
              "      <td>2.16.2016 17:10</td>\n",
              "      <td>Business</td>\n",
              "      <td>Colombo</td>\n",
              "      <td>Colombo</td>\n",
              "      <td>6.0</td>\n",
              "      <td>NaN</td>\n",
              "    </tr>\n",
              "  </tbody>\n",
              "</table>\n",
              "</div>"
            ],
            "text/plain": [
              "          START_DATE          END_DATE CATEGORY*        START           STOP  \\\n",
              "0   01.10.2016 19:12  01.10.2016 19:32  Business      Midtown    East Harlem   \n",
              "1   01.11.2016 13:32  01.11.2016 13:46  Business      Midtown   Midtown East   \n",
              "2   01.12.2016 12:33  01.12.2016 12:49  Business      Midtown  Hudson Square   \n",
              "3    1.13.2016 15:00   1.13.2016 15:28  Business      Gulfton       Downtown   \n",
              "4    1.29.2016 21:21   1.29.2016 21:40  Business         Apex           Cary   \n",
              "5    1.30.2016 18:09   1.30.2016 18:24  Business         Apex           Cary   \n",
              "6   02.01.2016 12:10  02.01.2016 12:43  Business  Chapel Hill           Cary   \n",
              "7    02.04.2016 9:37  02.04.2016 10:09  Business  Morrisville           Cary   \n",
              "8   02.07.2016 18:03  02.07.2016 18:17  Business         Apex           Cary   \n",
              "9   02.07.2016 20:22  02.07.2016 20:40  Business  Morrisville           Cary   \n",
              "10  02.09.2016 20:24  02.09.2016 20:40  Business  Morrisville           Cary   \n",
              "11  02.11.2016 20:36  02.11.2016 20:51  Business  Morrisville           Cary   \n",
              "12  02.12.2016 11:14  02.12.2016 11:35  Business  Morrisville        Raleigh   \n",
              "13  02.12.2016 15:33  02.12.2016 16:06  Business  Morrisville           Cary   \n",
              "14   2.14.2016 14:46   2.14.2016 15:03  Business      Midtown   Midtown West   \n",
              "15   2.16.2016 10:31   2.16.2016 10:41  BUSINESS      Colombo        Colombo   \n",
              "16   2.16.2016 11:32   2.16.2016 12:02  Business      Colombo        Colombo   \n",
              "17   2.16.2016 12:39   2.16.2016 12:42  Business      Colombo        Colombo   \n",
              "18   2.16.2016 13:43   2.16.2016 13:55  BUSINESS      Colombo        Colombo   \n",
              "19   2.16.2016 16:34   2.16.2016 17:10  Business      Colombo        Colombo   \n",
              "\n",
              "      MILES    PURPOSEroute  \n",
              "0   44963.0         MEETING  \n",
              "1   45108.0  Meal/Entertain  \n",
              "2   45170.0  Meal/Entertain  \n",
              "3   45149.0         Meeting  \n",
              "4   45051.0  Meal/Entertain  \n",
              "5   45112.0  Customer Visit  \n",
              "6   45008.0  Customer Visit  \n",
              "7   45116.0  Meal/Entertain  \n",
              "8   45112.0  Customer Visit  \n",
              "9   44932.0         Meeting  \n",
              "10  44932.0  Meal/Entertain  \n",
              "11  44932.0  Temporary Site  \n",
              "12     17.0  Customer Visit  \n",
              "13  45057.0  Customer Visit  \n",
              "14      2.0         Meeting  \n",
              "15  45079.0             NaN  \n",
              "16  45050.0             NaN  \n",
              "17  45108.0             NaN  \n",
              "18  45139.0  Temporary Site  \n",
              "19      6.0             NaN  "
            ]
          },
          "execution_count": 3,
          "metadata": {},
          "output_type": "execute_result"
        }
      ],
      "source": [
        "# применить метод head\n",
        "df.head(20)"
      ]
    },
    {
      "cell_type": "markdown",
      "metadata": {
        "id": "Ze-lXxLMhpWv"
      },
      "source": [
        "2.2 Оценка данных с помощью метода info."
      ]
    },
    {
      "cell_type": "code",
      "execution_count": 4,
      "metadata": {
        "id": "bjhngmaLiGM-"
      },
      "outputs": [
        {
          "name": "stdout",
          "output_type": "stream",
          "text": [
            "<class 'pandas.core.frame.DataFrame'>\n",
            "RangeIndex: 161 entries, 0 to 160\n",
            "Data columns (total 7 columns):\n",
            " #   Column        Non-Null Count  Dtype  \n",
            "---  ------        --------------  -----  \n",
            " 0   START_DATE    161 non-null    object \n",
            " 1   END_DATE      161 non-null    object \n",
            " 2   CATEGORY*     161 non-null    object \n",
            " 3   START         161 non-null    object \n",
            " 4   STOP          161 non-null    object \n",
            " 5   MILES         161 non-null    float64\n",
            " 6   PURPOSEroute  84 non-null     object \n",
            "dtypes: float64(1), object(6)\n",
            "memory usage: 8.9+ KB\n"
          ]
        }
      ],
      "source": [
        "# выполнит метод info\n",
        "df.info()"
      ]
    },
    {
      "cell_type": "markdown",
      "metadata": {
        "id": "06PDq9DAiMAY"
      },
      "source": [
        "2.3 Оценка данных с помощью метода describe."
      ]
    },
    {
      "cell_type": "code",
      "execution_count": 5,
      "metadata": {
        "id": "cTVFwzO1jQfN"
      },
      "outputs": [
        {
          "data": {
            "text/html": [
              "<div>\n",
              "<style scoped>\n",
              "    .dataframe tbody tr th:only-of-type {\n",
              "        vertical-align: middle;\n",
              "    }\n",
              "\n",
              "    .dataframe tbody tr th {\n",
              "        vertical-align: top;\n",
              "    }\n",
              "\n",
              "    .dataframe thead th {\n",
              "        text-align: right;\n",
              "    }\n",
              "</style>\n",
              "<table border=\"1\" class=\"dataframe\">\n",
              "  <thead>\n",
              "    <tr style=\"text-align: right;\">\n",
              "      <th></th>\n",
              "      <th>MILES</th>\n",
              "    </tr>\n",
              "  </thead>\n",
              "  <tbody>\n",
              "    <tr>\n",
              "      <th>count</th>\n",
              "      <td>161.000000</td>\n",
              "    </tr>\n",
              "    <tr>\n",
              "      <th>mean</th>\n",
              "      <td>37766.519255</td>\n",
              "    </tr>\n",
              "    <tr>\n",
              "      <th>std</th>\n",
              "      <td>16614.925558</td>\n",
              "    </tr>\n",
              "    <tr>\n",
              "      <th>min</th>\n",
              "      <td>0.800000</td>\n",
              "    </tr>\n",
              "    <tr>\n",
              "      <th>25%</th>\n",
              "      <td>44931.000000</td>\n",
              "    </tr>\n",
              "    <tr>\n",
              "      <th>50%</th>\n",
              "      <td>45008.000000</td>\n",
              "    </tr>\n",
              "    <tr>\n",
              "      <th>75%</th>\n",
              "      <td>45081.000000</td>\n",
              "    </tr>\n",
              "    <tr>\n",
              "      <th>max</th>\n",
              "      <td>45177.000000</td>\n",
              "    </tr>\n",
              "  </tbody>\n",
              "</table>\n",
              "</div>"
            ],
            "text/plain": [
              "              MILES\n",
              "count    161.000000\n",
              "mean   37766.519255\n",
              "std    16614.925558\n",
              "min        0.800000\n",
              "25%    44931.000000\n",
              "50%    45008.000000\n",
              "75%    45081.000000\n",
              "max    45177.000000"
            ]
          },
          "execution_count": 5,
          "metadata": {},
          "output_type": "execute_result"
        }
      ],
      "source": [
        "# оцените числовые столбцы с помощью describe\n",
        "df.describe()"
      ]
    },
    {
      "cell_type": "markdown",
      "metadata": {
        "id": "oOZUrZGuiGqc"
      },
      "source": [
        "\n",
        "---\n",
        "\n",
        "**Вывод:**\n",
        "    С помощью метода describe были оценены числовые столбцы, а конкретно один числовой столбец MILES. Стали известны такие данные как: количество ненулевых значений, среднее арифметическое, стандартное отклонение, минимальное значение, первый квартиль, медиана, третий квартиль и максимальное значение.\n",
        "\n",
        " ---\n"
      ]
    },
    {
      "cell_type": "markdown",
      "metadata": {
        "id": "JTbo0IGDiHxn"
      },
      "source": [
        " 2.4 Оценка названий столбцов"
      ]
    },
    {
      "cell_type": "code",
      "execution_count": 6,
      "metadata": {
        "id": "9NEyi2Odik3e"
      },
      "outputs": [
        {
          "data": {
            "text/plain": [
              "Index(['START_DATE', 'END_DATE', 'CATEGORY*', 'START', 'STOP', 'MILES',\n",
              "       'PURPOSEroute'],\n",
              "      dtype='object')"
            ]
          },
          "execution_count": 6,
          "metadata": {},
          "output_type": "execute_result"
        }
      ],
      "source": [
        "# Вывести на экран названия столбцов с помощью df.columns. Выявить проблемы с названиями, если они есть. При необходимости переименовать столбцы. Если проблемы не обнаружены также дать пояснения.\n",
        "df.columns"
      ]
    },
    {
      "cell_type": "code",
      "execution_count": 7,
      "metadata": {
        "id": "QSJBLl4qjjP8"
      },
      "outputs": [],
      "source": [
        "# переименование при необходимости\n",
        "df = df.rename(columns={'CATEGORY*': 'CATEGORY', 'START': 'START_POINT', 'STOP': 'STOP_POINT',\n",
        "                        'PURPOSEroute': 'ROUTE_PURPOSE'})"
      ]
    },
    {
      "cell_type": "code",
      "execution_count": 8,
      "metadata": {},
      "outputs": [
        {
          "data": {
            "text/plain": [
              "Index(['START_DATE', 'END_DATE', 'CATEGORY', 'START_POINT', 'STOP_POINT',\n",
              "       'MILES', 'ROUTE_PURPOSE'],\n",
              "      dtype='object')"
            ]
          },
          "execution_count": 8,
          "metadata": {},
          "output_type": "execute_result"
        }
      ],
      "source": [
        "# Проверка изменений\n",
        "df.columns"
      ]
    },
    {
      "cell_type": "markdown",
      "metadata": {
        "id": "V0tLQcyrjnA_"
      },
      "source": [
        "### 3. Проверка пропусков"
      ]
    },
    {
      "cell_type": "code",
      "execution_count": 9,
      "metadata": {
        "id": "xuTz-Avjj9AW"
      },
      "outputs": [
        {
          "name": "stdout",
          "output_type": "stream",
          "text": [
            "START_DATE        0\n",
            "END_DATE          0\n",
            "CATEGORY          0\n",
            "START_POINT       0\n",
            "STOP_POINT        0\n",
            "MILES             0\n",
            "ROUTE_PURPOSE    77\n",
            "dtype: int64\n"
          ]
        }
      ],
      "source": [
        "# Проверить данные на наличие пропусков и устранить их, если они есть (пропуски необходимо либо удалить, либо заменить каким-то значением).\n",
        "print(df.isna().sum())"
      ]
    },
    {
      "cell_type": "code",
      "execution_count": 10,
      "metadata": {},
      "outputs": [],
      "source": [
        "df['ROUTE_PURPOSE'] = df['ROUTE_PURPOSE'].fillna('Other')"
      ]
    },
    {
      "cell_type": "code",
      "execution_count": 11,
      "metadata": {},
      "outputs": [
        {
          "name": "stdout",
          "output_type": "stream",
          "text": [
            "START_DATE       0\n",
            "END_DATE         0\n",
            "CATEGORY         0\n",
            "START_POINT      0\n",
            "STOP_POINT       0\n",
            "MILES            0\n",
            "ROUTE_PURPOSE    0\n",
            "dtype: int64\n"
          ]
        }
      ],
      "source": [
        "print(df.isna().sum())"
      ]
    },
    {
      "cell_type": "markdown",
      "metadata": {
        "id": "efZ7vgSVkPQH"
      },
      "source": [
        "\n",
        "---\n",
        "\n",
        "**Слишком много пропусков в ROUTE_PURPOSE из-за чего невозможно просто удалить столько строк данных.\n",
        "Было принято решение присвоить нулевым значениям категорию Other.**\n",
        "\n",
        "\n",
        " ---"
      ]
    },
    {
      "cell_type": "markdown",
      "metadata": {
        "id": "kkyrXXHikEXk"
      },
      "source": [
        "### 4. Проверка дубликатов"
      ]
    },
    {
      "cell_type": "markdown",
      "metadata": {
        "id": "ImqHvr3okIQ6"
      },
      "source": [
        "#### Проверка явных дубликатов"
      ]
    },
    {
      "cell_type": "code",
      "execution_count": 12,
      "metadata": {
        "id": "qu1oh-e5lDZ1"
      },
      "outputs": [
        {
          "name": "stdout",
          "output_type": "stream",
          "text": [
            "          START_DATE         END_DATE  CATEGORY  START_POINT STOP_POINT  \\\n",
            "159  7.26.2016 22:31  7.26.2016 22:39  Business  Morrisville       Cary   \n",
            "160  7.26.2016 22:31  7.26.2016 22:39  Business  Morrisville       Cary   \n",
            "\n",
            "       MILES   ROUTE_PURPOSE  \n",
            "159  45048.0  Meal/Entertain  \n",
            "160  45048.0  Meal/Entertain  \n",
            "2\n"
          ]
        }
      ],
      "source": [
        "print(df[df.duplicated()])\n",
        "print(df.duplicated().sum())"
      ]
    },
    {
      "cell_type": "code",
      "execution_count": 13,
      "metadata": {
        "id": "ntArgvChkK26"
      },
      "outputs": [],
      "source": [
        "# удалите дубликаты, если они есть\n",
        "df = df.drop_duplicates()"
      ]
    },
    {
      "cell_type": "code",
      "execution_count": 14,
      "metadata": {},
      "outputs": [
        {
          "name": "stdout",
          "output_type": "stream",
          "text": [
            "0\n"
          ]
        }
      ],
      "source": [
        "print(df.duplicated().sum())"
      ]
    },
    {
      "cell_type": "markdown",
      "metadata": {
        "id": "VeHTMcOmkLSw"
      },
      "source": [
        "#### Проверка неявных дубликатов"
      ]
    },
    {
      "cell_type": "code",
      "execution_count": 15,
      "metadata": {
        "id": "-uOPKHlVlGo8"
      },
      "outputs": [
        {
          "name": "stdout",
          "output_type": "stream",
          "text": [
            "['Business' 'BUSINESS' 'Personal']\n",
            "['MEETING' 'Meal/Entertain' 'Meeting' 'Customer Visit' 'Temporary Site'\n",
            " 'Other' 'Moving']\n"
          ]
        }
      ],
      "source": [
        "print(df['CATEGORY'].unique())\n",
        "print(df['ROUTE_PURPOSE'].unique())"
      ]
    },
    {
      "cell_type": "code",
      "execution_count": 16,
      "metadata": {
        "id": "89tMFEQ2k_M7"
      },
      "outputs": [],
      "source": [
        "# удалите дубликаты, если они есть\n",
        "df['CATEGORY'] = df['CATEGORY'].replace('BUSINESS', 'Business')\n",
        "df['ROUTE_PURPOSE'] = df['ROUTE_PURPOSE'].replace('MEETING', 'Meeting')"
      ]
    },
    {
      "cell_type": "code",
      "execution_count": 17,
      "metadata": {},
      "outputs": [
        {
          "name": "stdout",
          "output_type": "stream",
          "text": [
            "['Business' 'Personal']\n",
            "['Meeting' 'Meal/Entertain' 'Customer Visit' 'Temporary Site' 'Other'\n",
            " 'Moving']\n"
          ]
        }
      ],
      "source": [
        "print(df['CATEGORY'].unique())\n",
        "print(df['ROUTE_PURPOSE'].unique())"
      ]
    },
    {
      "cell_type": "markdown",
      "metadata": {
        "id": "GMcnDpOmlKhU"
      },
      "source": [
        "---\n",
        "\n",
        "**Явных дубликата было найдено всего два, поэтому было принято решение удалить их.\n",
        "Что касается неявных дубликатов, все найденные были переименнованы, чтобы соответсовать остальным значениям**\n",
        "\n",
        "\n",
        " ---"
      ]
    },
    {
      "cell_type": "markdown",
      "metadata": {
        "id": "md9GhfYMlbi7"
      },
      "source": [
        "### 5. Провека типов данных"
      ]
    },
    {
      "cell_type": "code",
      "execution_count": 18,
      "metadata": {
        "id": "lXTroENaluCW"
      },
      "outputs": [
        {
          "data": {
            "text/plain": [
              "START_DATE        object\n",
              "END_DATE          object\n",
              "CATEGORY          object\n",
              "START_POINT       object\n",
              "STOP_POINT        object\n",
              "MILES            float64\n",
              "ROUTE_PURPOSE     object\n",
              "dtype: object"
            ]
          },
          "execution_count": 18,
          "metadata": {},
          "output_type": "execute_result"
        }
      ],
      "source": [
        "# Проверьте типы данных, при необходимости измените типы данных, чтобы они соответствовали действительности.\n",
        "df.dtypes\n"
      ]
    },
    {
      "cell_type": "code",
      "execution_count": 19,
      "metadata": {
        "id": "WXhXgu29lop3"
      },
      "outputs": [
        {
          "data": {
            "text/html": [
              "<div>\n",
              "<style scoped>\n",
              "    .dataframe tbody tr th:only-of-type {\n",
              "        vertical-align: middle;\n",
              "    }\n",
              "\n",
              "    .dataframe tbody tr th {\n",
              "        vertical-align: top;\n",
              "    }\n",
              "\n",
              "    .dataframe thead th {\n",
              "        text-align: right;\n",
              "    }\n",
              "</style>\n",
              "<table border=\"1\" class=\"dataframe\">\n",
              "  <thead>\n",
              "    <tr style=\"text-align: right;\">\n",
              "      <th></th>\n",
              "      <th>START_DATE</th>\n",
              "      <th>END_DATE</th>\n",
              "      <th>CATEGORY</th>\n",
              "      <th>START_POINT</th>\n",
              "      <th>STOP_POINT</th>\n",
              "      <th>MILES</th>\n",
              "      <th>ROUTE_PURPOSE</th>\n",
              "    </tr>\n",
              "  </thead>\n",
              "  <tbody>\n",
              "    <tr>\n",
              "      <th>0</th>\n",
              "      <td>2016-01-10 19:12:00</td>\n",
              "      <td>2016-01-10 19:32:00</td>\n",
              "      <td>Business</td>\n",
              "      <td>Midtown</td>\n",
              "      <td>East Harlem</td>\n",
              "      <td>44963.0</td>\n",
              "      <td>Meeting</td>\n",
              "    </tr>\n",
              "    <tr>\n",
              "      <th>1</th>\n",
              "      <td>2016-01-11 13:32:00</td>\n",
              "      <td>2016-01-11 13:46:00</td>\n",
              "      <td>Business</td>\n",
              "      <td>Midtown</td>\n",
              "      <td>Midtown East</td>\n",
              "      <td>45108.0</td>\n",
              "      <td>Meal/Entertain</td>\n",
              "    </tr>\n",
              "    <tr>\n",
              "      <th>2</th>\n",
              "      <td>2016-01-12 12:33:00</td>\n",
              "      <td>2016-01-12 12:49:00</td>\n",
              "      <td>Business</td>\n",
              "      <td>Midtown</td>\n",
              "      <td>Hudson Square</td>\n",
              "      <td>45170.0</td>\n",
              "      <td>Meal/Entertain</td>\n",
              "    </tr>\n",
              "    <tr>\n",
              "      <th>3</th>\n",
              "      <td>2016-01-13 15:00:00</td>\n",
              "      <td>2016-01-13 15:28:00</td>\n",
              "      <td>Business</td>\n",
              "      <td>Gulfton</td>\n",
              "      <td>Downtown</td>\n",
              "      <td>45149.0</td>\n",
              "      <td>Meeting</td>\n",
              "    </tr>\n",
              "    <tr>\n",
              "      <th>4</th>\n",
              "      <td>2016-01-29 21:21:00</td>\n",
              "      <td>2016-01-29 21:40:00</td>\n",
              "      <td>Business</td>\n",
              "      <td>Apex</td>\n",
              "      <td>Cary</td>\n",
              "      <td>45051.0</td>\n",
              "      <td>Meal/Entertain</td>\n",
              "    </tr>\n",
              "    <tr>\n",
              "      <th>5</th>\n",
              "      <td>2016-01-30 18:09:00</td>\n",
              "      <td>2016-01-30 18:24:00</td>\n",
              "      <td>Business</td>\n",
              "      <td>Apex</td>\n",
              "      <td>Cary</td>\n",
              "      <td>45112.0</td>\n",
              "      <td>Customer Visit</td>\n",
              "    </tr>\n",
              "    <tr>\n",
              "      <th>6</th>\n",
              "      <td>2016-02-01 12:10:00</td>\n",
              "      <td>2016-02-01 12:43:00</td>\n",
              "      <td>Business</td>\n",
              "      <td>Chapel Hill</td>\n",
              "      <td>Cary</td>\n",
              "      <td>45008.0</td>\n",
              "      <td>Customer Visit</td>\n",
              "    </tr>\n",
              "    <tr>\n",
              "      <th>7</th>\n",
              "      <td>2016-02-04 09:37:00</td>\n",
              "      <td>2016-02-04 10:09:00</td>\n",
              "      <td>Business</td>\n",
              "      <td>Morrisville</td>\n",
              "      <td>Cary</td>\n",
              "      <td>45116.0</td>\n",
              "      <td>Meal/Entertain</td>\n",
              "    </tr>\n",
              "    <tr>\n",
              "      <th>8</th>\n",
              "      <td>2016-02-07 18:03:00</td>\n",
              "      <td>2016-02-07 18:17:00</td>\n",
              "      <td>Business</td>\n",
              "      <td>Apex</td>\n",
              "      <td>Cary</td>\n",
              "      <td>45112.0</td>\n",
              "      <td>Customer Visit</td>\n",
              "    </tr>\n",
              "    <tr>\n",
              "      <th>9</th>\n",
              "      <td>2016-02-07 20:22:00</td>\n",
              "      <td>2016-02-07 20:40:00</td>\n",
              "      <td>Business</td>\n",
              "      <td>Morrisville</td>\n",
              "      <td>Cary</td>\n",
              "      <td>44932.0</td>\n",
              "      <td>Meeting</td>\n",
              "    </tr>\n",
              "  </tbody>\n",
              "</table>\n",
              "</div>"
            ],
            "text/plain": [
              "           START_DATE            END_DATE  CATEGORY  START_POINT  \\\n",
              "0 2016-01-10 19:12:00 2016-01-10 19:32:00  Business      Midtown   \n",
              "1 2016-01-11 13:32:00 2016-01-11 13:46:00  Business      Midtown   \n",
              "2 2016-01-12 12:33:00 2016-01-12 12:49:00  Business      Midtown   \n",
              "3 2016-01-13 15:00:00 2016-01-13 15:28:00  Business      Gulfton   \n",
              "4 2016-01-29 21:21:00 2016-01-29 21:40:00  Business         Apex   \n",
              "5 2016-01-30 18:09:00 2016-01-30 18:24:00  Business         Apex   \n",
              "6 2016-02-01 12:10:00 2016-02-01 12:43:00  Business  Chapel Hill   \n",
              "7 2016-02-04 09:37:00 2016-02-04 10:09:00  Business  Morrisville   \n",
              "8 2016-02-07 18:03:00 2016-02-07 18:17:00  Business         Apex   \n",
              "9 2016-02-07 20:22:00 2016-02-07 20:40:00  Business  Morrisville   \n",
              "\n",
              "      STOP_POINT    MILES   ROUTE_PURPOSE  \n",
              "0    East Harlem  44963.0         Meeting  \n",
              "1   Midtown East  45108.0  Meal/Entertain  \n",
              "2  Hudson Square  45170.0  Meal/Entertain  \n",
              "3       Downtown  45149.0         Meeting  \n",
              "4           Cary  45051.0  Meal/Entertain  \n",
              "5           Cary  45112.0  Customer Visit  \n",
              "6           Cary  45008.0  Customer Visit  \n",
              "7           Cary  45116.0  Meal/Entertain  \n",
              "8           Cary  45112.0  Customer Visit  \n",
              "9           Cary  44932.0         Meeting  "
            ]
          },
          "execution_count": 19,
          "metadata": {},
          "output_type": "execute_result"
        }
      ],
      "source": [
        "df[\"START_DATE\"] = pd.to_datetime(df[\"START_DATE\"], errors=\"coerce\")\n",
        "df[\"END_DATE\"] = pd.to_datetime(df[\"END_DATE\"], errors=\"coerce\")\n",
        "\n",
        "\n",
        "df.head(10)\n",
        "\n"
      ]
    },
    {
      "cell_type": "code",
      "execution_count": 20,
      "metadata": {},
      "outputs": [
        {
          "data": {
            "text/plain": [
              "START_DATE       datetime64[ns]\n",
              "END_DATE         datetime64[ns]\n",
              "CATEGORY                 object\n",
              "START_POINT              object\n",
              "STOP_POINT               object\n",
              "MILES                   float64\n",
              "ROUTE_PURPOSE            object\n",
              "dtype: object"
            ]
          },
          "execution_count": 20,
          "metadata": {},
          "output_type": "execute_result"
        }
      ],
      "source": [
        "df.dtypes"
      ]
    },
    {
      "cell_type": "code",
      "execution_count": 21,
      "metadata": {},
      "outputs": [
        {
          "name": "stdout",
          "output_type": "stream",
          "text": [
            "START_DATE       0\n",
            "END_DATE         0\n",
            "CATEGORY         0\n",
            "START_POINT      0\n",
            "STOP_POINT       0\n",
            "MILES            0\n",
            "ROUTE_PURPOSE    0\n",
            "dtype: int64\n"
          ]
        }
      ],
      "source": [
        "print(df.isna().sum())"
      ]
    },
    {
      "cell_type": "markdown",
      "metadata": {
        "id": "DPDBNN4dlx7W"
      },
      "source": [
        "---\n",
        "\n",
        "**Был преобразован тип данных дат из object в datetime64[ns]**\n",
        "\n",
        "\n",
        " ---"
      ]
    },
    {
      "cell_type": "markdown",
      "metadata": {
        "id": "lzr0SgqlnmHy"
      },
      "source": [
        "### 6. Группировка данных"
      ]
    },
    {
      "cell_type": "markdown",
      "metadata": {
        "id": "QG_dbwzfmZoS"
      },
      "source": [
        "#### Задание 1"
      ]
    },
    {
      "cell_type": "markdown",
      "metadata": {
        "id": "CyCKTB4DmciW"
      },
      "source": [
        "*`Формулировка задания`*\n",
        "Группировка - CATEGORY и количество поездок каждого типа (по цели\n",
        "маршрута)."
      ]
    },
    {
      "cell_type": "code",
      "execution_count": 22,
      "metadata": {
        "id": "tp8Bl1gumYlI"
      },
      "outputs": [
        {
          "data": {
            "text/plain": [
              "CATEGORY  ROUTE_PURPOSE \n",
              "Business  Customer Visit    36023.196667\n",
              "          Meal/Entertain    41054.823529\n",
              "          Meeting           34646.846154\n",
              "          Other             36982.219403\n",
              "          Temporary Site    45063.500000\n",
              "Personal  Moving            44932.000000\n",
              "          Other             36035.000000\n",
              "Name: MILES, dtype: float64"
            ]
          },
          "execution_count": 22,
          "metadata": {},
          "output_type": "execute_result"
        }
      ],
      "source": [
        "# выполните группировку согласно варианту\n",
        "df.groupby([\"CATEGORY\", \"ROUTE_PURPOSE\"])['MILES'].mean()"
      ]
    },
    {
      "cell_type": "markdown",
      "metadata": {
        "id": "jLmhNuq0mms3"
      },
      "source": [
        "**`Вывод:` Из результата группировки видно, что большая часть поездок связана с бизнесом, особенно с визитами к клиентам, однако значительное количество маршрутов остаётся неопределённым. Личные поездки встречаются гораздо реже, и среди них также есть неопределённые цели.**"
      ]
    },
    {
      "cell_type": "markdown",
      "metadata": {
        "id": "j0isGCzEne7a"
      },
      "source": [
        "#### Задание 2"
      ]
    },
    {
      "cell_type": "markdown",
      "metadata": {
        "id": "kE2vLBWbne7a"
      },
      "source": [
        "*`Формулировка задания`*\n",
        "Группировка - CATEGORY и количество поездок для каждой очки\n",
        "старта (START). Создать датафрейм. Переименовать столбец с количеством в\n",
        "“сount”. Отсортировать по возрастанию столбца “count”."
      ]
    },
    {
      "cell_type": "code",
      "execution_count": 23,
      "metadata": {
        "id": "ttn78Zaene7a"
      },
      "outputs": [
        {
          "data": {
            "text/html": [
              "<div>\n",
              "<style scoped>\n",
              "    .dataframe tbody tr th:only-of-type {\n",
              "        vertical-align: middle;\n",
              "    }\n",
              "\n",
              "    .dataframe tbody tr th {\n",
              "        vertical-align: top;\n",
              "    }\n",
              "\n",
              "    .dataframe thead th {\n",
              "        text-align: right;\n",
              "    }\n",
              "</style>\n",
              "<table border=\"1\" class=\"dataframe\">\n",
              "  <thead>\n",
              "    <tr style=\"text-align: right;\">\n",
              "      <th></th>\n",
              "      <th>CATEGORY</th>\n",
              "      <th>START_POINT</th>\n",
              "      <th>count</th>\n",
              "    </tr>\n",
              "  </thead>\n",
              "  <tbody>\n",
              "    <tr>\n",
              "      <th>0</th>\n",
              "      <td>Business</td>\n",
              "      <td>Almond</td>\n",
              "      <td>1</td>\n",
              "    </tr>\n",
              "    <tr>\n",
              "      <th>1</th>\n",
              "      <td>Business</td>\n",
              "      <td>Arabi</td>\n",
              "      <td>1</td>\n",
              "    </tr>\n",
              "    <tr>\n",
              "      <th>2</th>\n",
              "      <td>Business</td>\n",
              "      <td>Briar Meadow</td>\n",
              "      <td>1</td>\n",
              "    </tr>\n",
              "    <tr>\n",
              "      <th>3</th>\n",
              "      <td>Business</td>\n",
              "      <td>Arlington</td>\n",
              "      <td>1</td>\n",
              "    </tr>\n",
              "    <tr>\n",
              "      <th>4</th>\n",
              "      <td>Business</td>\n",
              "      <td>Georgian Acres</td>\n",
              "      <td>1</td>\n",
              "    </tr>\n",
              "    <tr>\n",
              "      <th>5</th>\n",
              "      <td>Business</td>\n",
              "      <td>Gulfton</td>\n",
              "      <td>1</td>\n",
              "    </tr>\n",
              "    <tr>\n",
              "      <th>6</th>\n",
              "      <td>Business</td>\n",
              "      <td>Columbia Heights</td>\n",
              "      <td>1</td>\n",
              "    </tr>\n",
              "    <tr>\n",
              "      <th>7</th>\n",
              "      <td>Business</td>\n",
              "      <td>College Avenue</td>\n",
              "      <td>1</td>\n",
              "    </tr>\n",
              "    <tr>\n",
              "      <th>8</th>\n",
              "      <td>Business</td>\n",
              "      <td>Hayesville</td>\n",
              "      <td>1</td>\n",
              "    </tr>\n",
              "    <tr>\n",
              "      <th>9</th>\n",
              "      <td>Business</td>\n",
              "      <td>Santa Clara</td>\n",
              "      <td>1</td>\n",
              "    </tr>\n",
              "    <tr>\n",
              "      <th>10</th>\n",
              "      <td>Personal</td>\n",
              "      <td>Chessington</td>\n",
              "      <td>1</td>\n",
              "    </tr>\n",
              "    <tr>\n",
              "      <th>11</th>\n",
              "      <td>Personal</td>\n",
              "      <td>Boone</td>\n",
              "      <td>1</td>\n",
              "    </tr>\n",
              "    <tr>\n",
              "      <th>12</th>\n",
              "      <td>Personal</td>\n",
              "      <td>Midtown</td>\n",
              "      <td>1</td>\n",
              "    </tr>\n",
              "    <tr>\n",
              "      <th>13</th>\n",
              "      <td>Business</td>\n",
              "      <td>South Berkeley</td>\n",
              "      <td>1</td>\n",
              "    </tr>\n",
              "    <tr>\n",
              "      <th>14</th>\n",
              "      <td>Business</td>\n",
              "      <td>Marigny</td>\n",
              "      <td>1</td>\n",
              "    </tr>\n",
              "    <tr>\n",
              "      <th>15</th>\n",
              "      <td>Business</td>\n",
              "      <td>Lower Garden District</td>\n",
              "      <td>1</td>\n",
              "    </tr>\n",
              "    <tr>\n",
              "      <th>16</th>\n",
              "      <td>Personal</td>\n",
              "      <td>Sky Lake</td>\n",
              "      <td>1</td>\n",
              "    </tr>\n",
              "    <tr>\n",
              "      <th>17</th>\n",
              "      <td>Personal</td>\n",
              "      <td>Sand Lake Commons</td>\n",
              "      <td>1</td>\n",
              "    </tr>\n",
              "    <tr>\n",
              "      <th>18</th>\n",
              "      <td>Business</td>\n",
              "      <td>San Jose</td>\n",
              "      <td>2</td>\n",
              "    </tr>\n",
              "    <tr>\n",
              "      <th>19</th>\n",
              "      <td>Business</td>\n",
              "      <td>Savon Height</td>\n",
              "      <td>2</td>\n",
              "    </tr>\n",
              "    <tr>\n",
              "      <th>20</th>\n",
              "      <td>Business</td>\n",
              "      <td>Capitol One</td>\n",
              "      <td>2</td>\n",
              "    </tr>\n",
              "    <tr>\n",
              "      <th>21</th>\n",
              "      <td>Business</td>\n",
              "      <td>Galveston</td>\n",
              "      <td>2</td>\n",
              "    </tr>\n",
              "    <tr>\n",
              "      <th>22</th>\n",
              "      <td>Business</td>\n",
              "      <td>South</td>\n",
              "      <td>2</td>\n",
              "    </tr>\n",
              "    <tr>\n",
              "      <th>23</th>\n",
              "      <td>Business</td>\n",
              "      <td>SOMISSPO</td>\n",
              "      <td>2</td>\n",
              "    </tr>\n",
              "    <tr>\n",
              "      <th>24</th>\n",
              "      <td>Business</td>\n",
              "      <td>Chapel Hill</td>\n",
              "      <td>2</td>\n",
              "    </tr>\n",
              "    <tr>\n",
              "      <th>25</th>\n",
              "      <td>Business</td>\n",
              "      <td>Mandeville</td>\n",
              "      <td>2</td>\n",
              "    </tr>\n",
              "    <tr>\n",
              "      <th>26</th>\n",
              "      <td>Business</td>\n",
              "      <td>Metairie</td>\n",
              "      <td>4</td>\n",
              "    </tr>\n",
              "    <tr>\n",
              "      <th>27</th>\n",
              "      <td>Business</td>\n",
              "      <td>Agnew</td>\n",
              "      <td>4</td>\n",
              "    </tr>\n",
              "    <tr>\n",
              "      <th>28</th>\n",
              "      <td>Business</td>\n",
              "      <td>Bryson City</td>\n",
              "      <td>5</td>\n",
              "    </tr>\n",
              "    <tr>\n",
              "      <th>29</th>\n",
              "      <td>Personal</td>\n",
              "      <td>Morrisville</td>\n",
              "      <td>6</td>\n",
              "    </tr>\n",
              "    <tr>\n",
              "      <th>30</th>\n",
              "      <td>Business</td>\n",
              "      <td>Colombo</td>\n",
              "      <td>8</td>\n",
              "    </tr>\n",
              "    <tr>\n",
              "      <th>31</th>\n",
              "      <td>Business</td>\n",
              "      <td>Midtown</td>\n",
              "      <td>13</td>\n",
              "    </tr>\n",
              "    <tr>\n",
              "      <th>32</th>\n",
              "      <td>Business</td>\n",
              "      <td>Apex</td>\n",
              "      <td>17</td>\n",
              "    </tr>\n",
              "    <tr>\n",
              "      <th>33</th>\n",
              "      <td>Business</td>\n",
              "      <td>Morrisville</td>\n",
              "      <td>68</td>\n",
              "    </tr>\n",
              "  </tbody>\n",
              "</table>\n",
              "</div>"
            ],
            "text/plain": [
              "    CATEGORY            START_POINT  count\n",
              "0   Business                 Almond      1\n",
              "1   Business                  Arabi      1\n",
              "2   Business           Briar Meadow      1\n",
              "3   Business              Arlington      1\n",
              "4   Business         Georgian Acres      1\n",
              "5   Business                Gulfton      1\n",
              "6   Business       Columbia Heights      1\n",
              "7   Business         College Avenue      1\n",
              "8   Business             Hayesville      1\n",
              "9   Business            Santa Clara      1\n",
              "10  Personal            Chessington      1\n",
              "11  Personal                  Boone      1\n",
              "12  Personal                Midtown      1\n",
              "13  Business         South Berkeley      1\n",
              "14  Business                Marigny      1\n",
              "15  Business  Lower Garden District      1\n",
              "16  Personal               Sky Lake      1\n",
              "17  Personal      Sand Lake Commons      1\n",
              "18  Business               San Jose      2\n",
              "19  Business           Savon Height      2\n",
              "20  Business            Capitol One      2\n",
              "21  Business              Galveston      2\n",
              "22  Business                  South      2\n",
              "23  Business               SOMISSPO      2\n",
              "24  Business            Chapel Hill      2\n",
              "25  Business             Mandeville      2\n",
              "26  Business               Metairie      4\n",
              "27  Business                  Agnew      4\n",
              "28  Business            Bryson City      5\n",
              "29  Personal            Morrisville      6\n",
              "30  Business                Colombo      8\n",
              "31  Business                Midtown     13\n",
              "32  Business                   Apex     17\n",
              "33  Business            Morrisville     68"
            ]
          },
          "execution_count": 23,
          "metadata": {},
          "output_type": "execute_result"
        }
      ],
      "source": [
        "# выполните группировку согласно варианту\n",
        "df.groupby([\"CATEGORY\", \"START_POINT\"]).size().sort_values(ascending = True).reset_index(name='count')"
      ]
    },
    {
      "cell_type": "markdown",
      "metadata": {
        "id": "HCyyeAu6ne7a"
      },
      "source": [
        "**`Вывод:` Сортировка показывает, какие направления редкие и встречаются эпизодически, а какие являются основными и отражают регулярные маршруты водителей.**"
      ]
    },
    {
      "cell_type": "markdown",
      "metadata": {
        "id": "_3fHGp64nhUJ"
      },
      "source": [
        "#### Задание 3"
      ]
    },
    {
      "cell_type": "markdown",
      "metadata": {
        "id": "_Bc4ehyKnhUJ"
      },
      "source": [
        "*`Формулировка задания`*\n",
        "Сводная таблица (pivot_table) - средняя количество пройденных миль\n",
        "по каждой цели поездки (PURPOSEroute). Отсортировать по убыванию столбца\n",
        "MILES. Округлить значение до двух знаков."
      ]
    },
    {
      "cell_type": "code",
      "execution_count": 24,
      "metadata": {
        "id": "siDovPvQnhUJ"
      },
      "outputs": [
        {
          "data": {
            "text/html": [
              "<div>\n",
              "<style scoped>\n",
              "    .dataframe tbody tr th:only-of-type {\n",
              "        vertical-align: middle;\n",
              "    }\n",
              "\n",
              "    .dataframe tbody tr th {\n",
              "        vertical-align: top;\n",
              "    }\n",
              "\n",
              "    .dataframe thead th {\n",
              "        text-align: right;\n",
              "    }\n",
              "</style>\n",
              "<table border=\"1\" class=\"dataframe\">\n",
              "  <thead>\n",
              "    <tr style=\"text-align: right;\">\n",
              "      <th></th>\n",
              "      <th>MILES</th>\n",
              "    </tr>\n",
              "    <tr>\n",
              "      <th>ROUTE_PURPOSE</th>\n",
              "      <th></th>\n",
              "    </tr>\n",
              "  </thead>\n",
              "  <tbody>\n",
              "    <tr>\n",
              "      <th>Temporary Site</th>\n",
              "      <td>45063.50</td>\n",
              "    </tr>\n",
              "    <tr>\n",
              "      <th>Moving</th>\n",
              "      <td>44932.00</td>\n",
              "    </tr>\n",
              "    <tr>\n",
              "      <th>Meal/Entertain</th>\n",
              "      <td>41054.82</td>\n",
              "    </tr>\n",
              "    <tr>\n",
              "      <th>Other</th>\n",
              "      <td>36859.20</td>\n",
              "    </tr>\n",
              "    <tr>\n",
              "      <th>Customer Visit</th>\n",
              "      <td>36023.20</td>\n",
              "    </tr>\n",
              "    <tr>\n",
              "      <th>Meeting</th>\n",
              "      <td>34646.85</td>\n",
              "    </tr>\n",
              "  </tbody>\n",
              "</table>\n",
              "</div>"
            ],
            "text/plain": [
              "                   MILES\n",
              "ROUTE_PURPOSE           \n",
              "Temporary Site  45063.50\n",
              "Moving          44932.00\n",
              "Meal/Entertain  41054.82\n",
              "Other           36859.20\n",
              "Customer Visit  36023.20\n",
              "Meeting         34646.85"
            ]
          },
          "execution_count": 24,
          "metadata": {},
          "output_type": "execute_result"
        }
      ],
      "source": [
        "# выполните сводную таблицу согласно варианту\n",
        "df.pivot_table(index='ROUTE_PURPOSE', values='MILES', aggfunc='mean').round(2).sort_values('MILES', ascending=False)\n"
      ]
    },
    {
      "cell_type": "markdown",
      "metadata": {
        "id": "1-vw8iyUnhUK"
      },
      "source": [
        "**`Вывод:` В среднем поездки на временные объекты оказываются длиннее остальных целей поездки.**"
      ]
    },
    {
      "cell_type": "markdown",
      "metadata": {
        "id": "FOlw74xCniNo"
      },
      "source": [
        "#### Задание 4"
      ]
    },
    {
      "cell_type": "markdown",
      "metadata": {
        "id": "4tvYwT25niNq"
      },
      "source": [
        "*`Формулировка задания`*\n",
        "Сводная таблица (pivot_table) - средняя количество пройденных миль\n",
        "по каждой цели каждой категории(CATEGORY*) - столбцы и каждой точке старта\n",
        "START - строки. Отсортировать по убыванию столбца START. Округлить значения\n",
        "с помощью round."
      ]
    },
    {
      "cell_type": "code",
      "execution_count": 25,
      "metadata": {
        "id": "TfJ719g6niNq"
      },
      "outputs": [
        {
          "data": {
            "text/html": [
              "<div>\n",
              "<style scoped>\n",
              "    .dataframe tbody tr th:only-of-type {\n",
              "        vertical-align: middle;\n",
              "    }\n",
              "\n",
              "    .dataframe tbody tr th {\n",
              "        vertical-align: top;\n",
              "    }\n",
              "\n",
              "    .dataframe thead th {\n",
              "        text-align: right;\n",
              "    }\n",
              "</style>\n",
              "<table border=\"1\" class=\"dataframe\">\n",
              "  <thead>\n",
              "    <tr style=\"text-align: right;\">\n",
              "      <th>CATEGORY</th>\n",
              "      <th>Business</th>\n",
              "      <th>Personal</th>\n",
              "    </tr>\n",
              "    <tr>\n",
              "      <th>START_POINT</th>\n",
              "      <th></th>\n",
              "      <th></th>\n",
              "    </tr>\n",
              "  </thead>\n",
              "  <tbody>\n",
              "    <tr>\n",
              "      <th>South Berkeley</th>\n",
              "      <td>0.90</td>\n",
              "      <td>0.0</td>\n",
              "    </tr>\n",
              "    <tr>\n",
              "      <th>South</th>\n",
              "      <td>22511.40</td>\n",
              "      <td>0.0</td>\n",
              "    </tr>\n",
              "    <tr>\n",
              "      <th>Sky Lake</th>\n",
              "      <td>0.00</td>\n",
              "      <td>6.0</td>\n",
              "    </tr>\n",
              "    <tr>\n",
              "      <th>Savon Height</th>\n",
              "      <td>45065.50</td>\n",
              "      <td>0.0</td>\n",
              "    </tr>\n",
              "    <tr>\n",
              "      <th>Santa Clara</th>\n",
              "      <td>43.90</td>\n",
              "      <td>0.0</td>\n",
              "    </tr>\n",
              "    <tr>\n",
              "      <th>Sand Lake Commons</th>\n",
              "      <td>0.00</td>\n",
              "      <td>44963.0</td>\n",
              "    </tr>\n",
              "    <tr>\n",
              "      <th>San Jose</th>\n",
              "      <td>22592.80</td>\n",
              "      <td>0.0</td>\n",
              "    </tr>\n",
              "    <tr>\n",
              "      <th>SOMISSPO</th>\n",
              "      <td>45017.50</td>\n",
              "      <td>0.0</td>\n",
              "    </tr>\n",
              "    <tr>\n",
              "      <th>Morrisville</th>\n",
              "      <td>39730.98</td>\n",
              "      <td>45001.5</td>\n",
              "    </tr>\n",
              "    <tr>\n",
              "      <th>Midtown</th>\n",
              "      <td>38117.08</td>\n",
              "      <td>1.0</td>\n",
              "    </tr>\n",
              "    <tr>\n",
              "      <th>Metairie</th>\n",
              "      <td>45061.00</td>\n",
              "      <td>0.0</td>\n",
              "    </tr>\n",
              "    <tr>\n",
              "      <th>Marigny</th>\n",
              "      <td>45047.00</td>\n",
              "      <td>0.0</td>\n",
              "    </tr>\n",
              "    <tr>\n",
              "      <th>Mandeville</th>\n",
              "      <td>22585.00</td>\n",
              "      <td>0.0</td>\n",
              "    </tr>\n",
              "    <tr>\n",
              "      <th>Lower Garden District</th>\n",
              "      <td>45022.00</td>\n",
              "      <td>0.0</td>\n",
              "    </tr>\n",
              "    <tr>\n",
              "      <th>Hayesville</th>\n",
              "      <td>75.70</td>\n",
              "      <td>0.0</td>\n",
              "    </tr>\n",
              "    <tr>\n",
              "      <th>Gulfton</th>\n",
              "      <td>45149.00</td>\n",
              "      <td>0.0</td>\n",
              "    </tr>\n",
              "    <tr>\n",
              "      <th>Georgian Acres</th>\n",
              "      <td>44963.00</td>\n",
              "      <td>0.0</td>\n",
              "    </tr>\n",
              "    <tr>\n",
              "      <th>Galveston</th>\n",
              "      <td>22493.00</td>\n",
              "      <td>0.0</td>\n",
              "    </tr>\n",
              "    <tr>\n",
              "      <th>Columbia Heights</th>\n",
              "      <td>45047.00</td>\n",
              "      <td>0.0</td>\n",
              "    </tr>\n",
              "    <tr>\n",
              "      <th>Colombo</th>\n",
              "      <td>39431.75</td>\n",
              "      <td>0.0</td>\n",
              "    </tr>\n",
              "    <tr>\n",
              "      <th>College Avenue</th>\n",
              "      <td>45079.00</td>\n",
              "      <td>0.0</td>\n",
              "    </tr>\n",
              "    <tr>\n",
              "      <th>Chessington</th>\n",
              "      <td>0.00</td>\n",
              "      <td>45142.0</td>\n",
              "    </tr>\n",
              "    <tr>\n",
              "      <th>Chapel Hill</th>\n",
              "      <td>22512.50</td>\n",
              "      <td>0.0</td>\n",
              "    </tr>\n",
              "    <tr>\n",
              "      <th>Capitol One</th>\n",
              "      <td>45040.00</td>\n",
              "      <td>0.0</td>\n",
              "    </tr>\n",
              "    <tr>\n",
              "      <th>Bryson City</th>\n",
              "      <td>36039.08</td>\n",
              "      <td>0.0</td>\n",
              "    </tr>\n",
              "    <tr>\n",
              "      <th>Briar Meadow</th>\n",
              "      <td>45086.00</td>\n",
              "      <td>0.0</td>\n",
              "    </tr>\n",
              "    <tr>\n",
              "      <th>Boone</th>\n",
              "      <td>0.00</td>\n",
              "      <td>45161.0</td>\n",
              "    </tr>\n",
              "    <tr>\n",
              "      <th>Arlington</th>\n",
              "      <td>45173.00</td>\n",
              "      <td>0.0</td>\n",
              "    </tr>\n",
              "    <tr>\n",
              "      <th>Arabi</th>\n",
              "      <td>17.00</td>\n",
              "      <td>0.0</td>\n",
              "    </tr>\n",
              "    <tr>\n",
              "      <th>Apex</th>\n",
              "      <td>37098.47</td>\n",
              "      <td>0.0</td>\n",
              "    </tr>\n",
              "    <tr>\n",
              "      <th>Almond</th>\n",
              "      <td>44972.00</td>\n",
              "      <td>0.0</td>\n",
              "    </tr>\n",
              "    <tr>\n",
              "      <th>Agnew</th>\n",
              "      <td>44981.25</td>\n",
              "      <td>0.0</td>\n",
              "    </tr>\n",
              "  </tbody>\n",
              "</table>\n",
              "</div>"
            ],
            "text/plain": [
              "CATEGORY               Business  Personal\n",
              "START_POINT                              \n",
              "South Berkeley             0.90       0.0\n",
              "South                  22511.40       0.0\n",
              "Sky Lake                   0.00       6.0\n",
              "Savon Height           45065.50       0.0\n",
              "Santa Clara               43.90       0.0\n",
              "Sand Lake Commons          0.00   44963.0\n",
              "San Jose               22592.80       0.0\n",
              "SOMISSPO               45017.50       0.0\n",
              "Morrisville            39730.98   45001.5\n",
              "Midtown                38117.08       1.0\n",
              "Metairie               45061.00       0.0\n",
              "Marigny                45047.00       0.0\n",
              "Mandeville             22585.00       0.0\n",
              "Lower Garden District  45022.00       0.0\n",
              "Hayesville                75.70       0.0\n",
              "Gulfton                45149.00       0.0\n",
              "Georgian Acres         44963.00       0.0\n",
              "Galveston              22493.00       0.0\n",
              "Columbia Heights       45047.00       0.0\n",
              "Colombo                39431.75       0.0\n",
              "College Avenue         45079.00       0.0\n",
              "Chessington                0.00   45142.0\n",
              "Chapel Hill            22512.50       0.0\n",
              "Capitol One            45040.00       0.0\n",
              "Bryson City            36039.08       0.0\n",
              "Briar Meadow           45086.00       0.0\n",
              "Boone                      0.00   45161.0\n",
              "Arlington              45173.00       0.0\n",
              "Arabi                     17.00       0.0\n",
              "Apex                   37098.47       0.0\n",
              "Almond                 44972.00       0.0\n",
              "Agnew                  44981.25       0.0"
            ]
          },
          "execution_count": 25,
          "metadata": {},
          "output_type": "execute_result"
        }
      ],
      "source": [
        "# выполните сводную таблицу согласно варианту\n",
        "df.pivot_table(index='START_POINT', columns='CATEGORY', values='MILES', \n",
        "               aggfunc='mean', fill_value= 0).round(2).sort_values('START_POINT', ascending=False)"
      ]
    },
    {
      "cell_type": "markdown",
      "metadata": {
        "id": "yqJqvk5qniNr"
      },
      "source": [
        "**`Вывод:` Из сводной таблицы видно четкое разделение точек старта по категориям поездок. Большинство точек используются исключительно для деловых (Business) или личных (Personal) поездок, с минимальным пересечением.**"
      ]
    },
    {
      "cell_type": "markdown",
      "metadata": {
        "id": "TpnXb6gip3S8"
      },
      "source": [
        "### Вывод"
      ]
    },
    {
      "cell_type": "markdown",
      "metadata": {
        "id": "nqLa096jM1Z8"
      },
      "source": [
        "\n",
        "В ходе лабораторной работы был проанализирован набор данных drivers.csv, содержащий информацию о поездках водителей. Данные включали такие атрибуты, как дата и время начала и окончания поездки, категория, точки старта и финиша, пройденные мили и цель поездки. Основная цель работы заключалась в предобработке данных, включая устранение пропусков, дубликатов и приведение типов данных к корректным форматам.\n",
        "\n",
        "**`Были выявлены и устранены следующие проблемы:`**\n",
        "- Пропуски в столбце ROUTE_PURPOSE (77 значений) заполнены категорией \"Other\".\n",
        "- Обнаружены и удалены явные дубликаты (2 записи).\n",
        "- Исправлены неявные дубликаты в столбцах CATEGORY и ROUTE_PURPOSE (например, \"BUSINESS\" → \"Business\", \"MEETING\" → \"Meeting\").\n",
        "- Преобразованы типы данных для столбцов START_DATE и END_DATE в datetime.\n",
        "\n",
        "**`Группировки и сводные таблицы позволили выявить следующие закономерности:`**\n",
        "- Большинство поездок относятся к бизнес-категории, при этом наиболее частые цели — \"Meal/Entertain\" и \"Customer Visit\".\n",
        "- Наибольшее количество поездок начинается из Morrisville (68 для бизнеса и 6 для личных целей).\n",
        "- Средняя длина поездки варьируется в зависимости от цели: максимальная — для \"Temporary Site\" (45063.5 миль), минимальная — для \"Meeting\" (34646.85 миль).\n",
        "- Точки старта четко разделены по категориям: большинство используется либо для деловых, либо для личных поездок.\n",
        "\n",
        "Результаты предобработки позволяют использовать данные для дальнейшего анализа поведения водителей.\n"
      ]
    },
    {
      "cell_type": "markdown",
      "metadata": {
        "id": "Sn3y7og_vjGG"
      },
      "source": [
        "### Дополнительные задания"
      ]
    },
    {
      "cell_type": "markdown",
      "metadata": {},
      "source": [
        "**`Задание 1`**\n",
        "\n",
        "Добавить столбец - время поездки (расчетный). Выполнить группировку -\n",
        "среднее и медианное время поездки по категориям."
      ]
    },
    {
      "cell_type": "code",
      "execution_count": 26,
      "metadata": {
        "id": "wG5TGQpevlBq"
      },
      "outputs": [
        {
          "data": {
            "text/html": [
              "<div>\n",
              "<style scoped>\n",
              "    .dataframe tbody tr th:only-of-type {\n",
              "        vertical-align: middle;\n",
              "    }\n",
              "\n",
              "    .dataframe tbody tr th {\n",
              "        vertical-align: top;\n",
              "    }\n",
              "\n",
              "    .dataframe thead th {\n",
              "        text-align: right;\n",
              "    }\n",
              "</style>\n",
              "<table border=\"1\" class=\"dataframe\">\n",
              "  <thead>\n",
              "    <tr style=\"text-align: right;\">\n",
              "      <th></th>\n",
              "      <th>mean</th>\n",
              "      <th>median</th>\n",
              "    </tr>\n",
              "    <tr>\n",
              "      <th>CATEGORY</th>\n",
              "      <th></th>\n",
              "      <th></th>\n",
              "    </tr>\n",
              "  </thead>\n",
              "  <tbody>\n",
              "    <tr>\n",
              "      <th>Business</th>\n",
              "      <td>20.277027</td>\n",
              "      <td>15.0</td>\n",
              "    </tr>\n",
              "    <tr>\n",
              "      <th>Personal</th>\n",
              "      <td>19.000000</td>\n",
              "      <td>18.0</td>\n",
              "    </tr>\n",
              "  </tbody>\n",
              "</table>\n",
              "</div>"
            ],
            "text/plain": [
              "               mean  median\n",
              "CATEGORY                   \n",
              "Business  20.277027    15.0\n",
              "Personal  19.000000    18.0"
            ]
          },
          "execution_count": 26,
          "metadata": {},
          "output_type": "execute_result"
        }
      ],
      "source": [
        "df[\"trip_time_min\"] = (df[\"END_DATE\"] - df[\"START_DATE\"]).dt.total_seconds() / 60\n",
        "\n",
        "df.groupby(\"CATEGORY\")[\"trip_time_min\"].agg([\"mean\", \"median\"])\n"
      ]
    },
    {
      "cell_type": "markdown",
      "metadata": {},
      "source": [
        "***`Пояснение к заданию`***\n",
        "Был добавлен столбец время поездки с длительностью в минутах. Затем была выполнена группировка по категориям и посчитано среднее и медианное время поездки.\n"
      ]
    },
    {
      "cell_type": "markdown",
      "metadata": {
        "id": "y-qpTuhTvon3"
      },
      "source": [
        "***`Вывод по заданию`***\n",
        "\n",
        "Business: среднее ≈ 20.28 мин, медианное = 15 мин.\n",
        "\n",
        "Personal: среднее = 19.00 мин, медианное = 18 мин.\n",
        "\n",
        "Значит: у Business есть редкие длинные поездки, так как среднее > медианы."
      ]
    },
    {
      "cell_type": "markdown",
      "metadata": {},
      "source": [
        "**`Задание 8`**\n",
        "\n",
        "Добавить столбец - время поездки (расчетный). Создать столбец “Категория\n",
        "длительности поездки” (с помощью категоризации). Выделить минимум 3\n",
        "категории (короткая, длинная, средняя), фильтрацию для времени выбрать\n",
        "самостоятельно, аргументировать выбор. Создать группировку: среднее и\n",
        "медианное количество пройденных миль по категории длительности поездки.\n",
        "Отфильтровать по убыванию среднего времени.\n"
      ]
    },
    {
      "cell_type": "code",
      "execution_count": 27,
      "metadata": {},
      "outputs": [
        {
          "data": {
            "text/html": [
              "<div>\n",
              "<style scoped>\n",
              "    .dataframe tbody tr th:only-of-type {\n",
              "        vertical-align: middle;\n",
              "    }\n",
              "\n",
              "    .dataframe tbody tr th {\n",
              "        vertical-align: top;\n",
              "    }\n",
              "\n",
              "    .dataframe thead th {\n",
              "        text-align: right;\n",
              "    }\n",
              "</style>\n",
              "<table border=\"1\" class=\"dataframe\">\n",
              "  <thead>\n",
              "    <tr style=\"text-align: right;\">\n",
              "      <th></th>\n",
              "      <th>mean</th>\n",
              "      <th>median</th>\n",
              "    </tr>\n",
              "    <tr>\n",
              "      <th>Trip duration category</th>\n",
              "      <th></th>\n",
              "      <th></th>\n",
              "    </tr>\n",
              "  </thead>\n",
              "  <tbody>\n",
              "    <tr>\n",
              "      <th>Medium</th>\n",
              "      <td>39401.453125</td>\n",
              "      <td>44993.0</td>\n",
              "    </tr>\n",
              "    <tr>\n",
              "      <th>Short</th>\n",
              "      <td>38754.798837</td>\n",
              "      <td>45022.5</td>\n",
              "    </tr>\n",
              "    <tr>\n",
              "      <th>Long</th>\n",
              "      <td>15078.655556</td>\n",
              "      <td>75.7</td>\n",
              "    </tr>\n",
              "  </tbody>\n",
              "</table>\n",
              "</div>"
            ],
            "text/plain": [
              "                                mean   median\n",
              "Trip duration category                       \n",
              "Medium                  39401.453125  44993.0\n",
              "Short                   38754.798837  45022.5\n",
              "Long                    15078.655556     75.7"
            ]
          },
          "execution_count": 27,
          "metadata": {},
          "output_type": "execute_result"
        }
      ],
      "source": [
        "bins = [0, 15, 45, df[\"trip_time_min\"].max()]\n",
        "labels = [\"Short\", \"Medium\", \"Long\"]\n",
        "df[\"Trip duration category\"] = pd.cut(df[\"trip_time_min\"], bins=bins, labels=labels, include_lowest=True)\n",
        "\n",
        "df.groupby(\"Trip duration category\", observed=True)[\"MILES\"].agg([\"mean\", \"median\"]).sort_values(by=\"mean\", ascending=False)"
      ]
    },
    {
      "cell_type": "markdown",
      "metadata": {},
      "source": [
        "***`Пояснение к заданию`***\n",
        "Время было разделено на категории (примерные границы):\n",
        "Short: 0–15 мин,\n",
        "Medium: 15–45 мин,\n",
        "Long: > 45 мин.\n",
        "\n",
        "После чего были посчитаны среднее и медианное значения по пройденным милям и отсортированы по среднему на убываение.\n",
        "\n"
      ]
    },
    {
      "cell_type": "markdown",
      "metadata": {},
      "source": [
        "***`Вывод по заданию`***\n",
        "\n",
        "Среднее и медианное значение для Short и Medium — порядка десятков тысяч (≈38–45k). Это НЕ типичные дистанции поездок в милях. Странненько -_-\n",
        "\n",
        "У Long median = 75.7 выглядит правдеподобнее как расстояние в милях."
      ]
    },
    {
      "cell_type": "markdown",
      "metadata": {
        "id": "rR6WgHXYvlqD"
      },
      "source": [
        "**`Задание 14`**\n",
        "\n",
        "Добавить столбец - время поездки (расчетный). Создать столбец “Категория\n",
        "пройденных миль” (с помощью категоризации). Выделить минимум 3\n",
        "категории (короткая, длинная, средняя), фильтрацию для расстояния выбрать\n",
        "самостоятельно, аргументировать выбор. Создать сводную таблицу: средняя и\n",
        "медианная длительность поездки по цели поездки и категории пройденных\n",
        "миль. "
      ]
    },
    {
      "cell_type": "code",
      "execution_count": 28,
      "metadata": {},
      "outputs": [
        {
          "data": {
            "text/html": [
              "<div>\n",
              "<style scoped>\n",
              "    .dataframe tbody tr th:only-of-type {\n",
              "        vertical-align: middle;\n",
              "    }\n",
              "\n",
              "    .dataframe tbody tr th {\n",
              "        vertical-align: top;\n",
              "    }\n",
              "\n",
              "    .dataframe thead tr th {\n",
              "        text-align: left;\n",
              "    }\n",
              "\n",
              "    .dataframe thead tr:last-of-type th {\n",
              "        text-align: right;\n",
              "    }\n",
              "</style>\n",
              "<table border=\"1\" class=\"dataframe\">\n",
              "  <thead>\n",
              "    <tr>\n",
              "      <th></th>\n",
              "      <th colspan=\"3\" halign=\"left\">mean</th>\n",
              "      <th colspan=\"3\" halign=\"left\">median</th>\n",
              "    </tr>\n",
              "    <tr>\n",
              "      <th>Category of miles traveled</th>\n",
              "      <th>Short</th>\n",
              "      <th>Medium</th>\n",
              "      <th>Long</th>\n",
              "      <th>Short</th>\n",
              "      <th>Medium</th>\n",
              "      <th>Long</th>\n",
              "    </tr>\n",
              "    <tr>\n",
              "      <th>ROUTE_PURPOSE</th>\n",
              "      <th></th>\n",
              "      <th></th>\n",
              "      <th></th>\n",
              "      <th></th>\n",
              "      <th></th>\n",
              "      <th></th>\n",
              "    </tr>\n",
              "  </thead>\n",
              "  <tbody>\n",
              "    <tr>\n",
              "      <th>Customer Visit</th>\n",
              "      <td>9.0</td>\n",
              "      <td>0.0</td>\n",
              "      <td>20.555556</td>\n",
              "      <td>9.0</td>\n",
              "      <td>0.0</td>\n",
              "      <td>15.0</td>\n",
              "    </tr>\n",
              "    <tr>\n",
              "      <th>Meal/Entertain</th>\n",
              "      <td>9.0</td>\n",
              "      <td>0.0</td>\n",
              "      <td>14.909091</td>\n",
              "      <td>9.0</td>\n",
              "      <td>0.0</td>\n",
              "      <td>14.0</td>\n",
              "    </tr>\n",
              "    <tr>\n",
              "      <th>Meeting</th>\n",
              "      <td>17.0</td>\n",
              "      <td>20.0</td>\n",
              "      <td>26.909091</td>\n",
              "      <td>17.0</td>\n",
              "      <td>20.0</td>\n",
              "      <td>18.0</td>\n",
              "    </tr>\n",
              "    <tr>\n",
              "      <th>Moving</th>\n",
              "      <td>0.0</td>\n",
              "      <td>0.0</td>\n",
              "      <td>21.000000</td>\n",
              "      <td>0.0</td>\n",
              "      <td>0.0</td>\n",
              "      <td>21.0</td>\n",
              "    </tr>\n",
              "    <tr>\n",
              "      <th>Other</th>\n",
              "      <td>6.4</td>\n",
              "      <td>22.0</td>\n",
              "      <td>22.852941</td>\n",
              "      <td>5.0</td>\n",
              "      <td>18.5</td>\n",
              "      <td>15.0</td>\n",
              "    </tr>\n",
              "    <tr>\n",
              "      <th>Temporary Site</th>\n",
              "      <td>0.0</td>\n",
              "      <td>0.0</td>\n",
              "      <td>24.750000</td>\n",
              "      <td>0.0</td>\n",
              "      <td>0.0</td>\n",
              "      <td>21.5</td>\n",
              "    </tr>\n",
              "  </tbody>\n",
              "</table>\n",
              "</div>"
            ],
            "text/plain": [
              "                            mean                   median             \n",
              "Category of miles traveled Short Medium       Long  Short Medium  Long\n",
              "ROUTE_PURPOSE                                                         \n",
              "Customer Visit               9.0    0.0  20.555556    9.0    0.0  15.0\n",
              "Meal/Entertain               9.0    0.0  14.909091    9.0    0.0  14.0\n",
              "Meeting                     17.0   20.0  26.909091   17.0   20.0  18.0\n",
              "Moving                       0.0    0.0  21.000000    0.0    0.0  21.0\n",
              "Other                        6.4   22.0  22.852941    5.0   18.5  15.0\n",
              "Temporary Site               0.0    0.0  24.750000    0.0    0.0  21.5"
            ]
          },
          "execution_count": 28,
          "metadata": {},
          "output_type": "execute_result"
        }
      ],
      "source": [
        "bins = [0, 5, 15, df[\"MILES\"].max()]\n",
        "labels = [\"Short\", \"Medium\", \"Long\"]\n",
        "df[\"Category of miles traveled\"] = pd.cut(df[\"MILES\"], bins=bins, labels=labels, include_lowest=True)\n",
        "pd.pivot_table(df, values=\"trip_time_min\",index=\"ROUTE_PURPOSE\", \n",
        "               columns=\"Category of miles traveled\", aggfunc=[\"mean\", \"median\"], observed=True, fill_value=0)"
      ]
    },
    {
      "cell_type": "markdown",
      "metadata": {},
      "source": [
        "***`Пояснение к заданию`***\n",
        "\n",
        "Время было разделено на категории (примерные границы):\n",
        "Short: 0–15 мин,\n",
        "Medium: 15–45 мин,\n",
        "Long: > 45 мин.\n",
        "\n",
        "Далее была создана сводная таблица (среднее и медианное значения длительности по цели и категории миль)."
      ]
    },
    {
      "cell_type": "markdown",
      "metadata": {},
      "source": [
        "***`Вывод по заданию`***\n",
        "\n",
        "Для большинства целей время поездки растёт с увеличением категории миль, как надо: Short < Medium < Long.\n",
        "\n",
        "Нули (0.0) в ячейках означают, что в этой комбинации нет наблюдений (из-за fill_value=0) — это не реальное время.\n",
        "\n",
        "Customer Visit: Short среднее/медианна ≈ 9 мин; Long среднее ≈ 20.6, медианна 15 — длинные поездки явно дольше.\n",
        "\n",
        "Meeting: среднее 17 / 20 / 26.9 (Short/Medium/Long) — рост времени с расстоянием, медианы близки (17,20,18).\n",
        "\n",
        "Other: Medium среднее 22, медианна 18.5 — здесь средние мили дают сравнительно большие времена."
      ]
    }
  ],
  "metadata": {
    "colab": {
      "provenance": []
    },
    "kernelspec": {
      "display_name": "venv",
      "language": "python",
      "name": "python3"
    },
    "language_info": {
      "codemirror_mode": {
        "name": "ipython",
        "version": 3
      },
      "file_extension": ".py",
      "mimetype": "text/x-python",
      "name": "python",
      "nbconvert_exporter": "python",
      "pygments_lexer": "ipython3",
      "version": "3.13.7"
    }
  },
  "nbformat": 4,
  "nbformat_minor": 0
}
